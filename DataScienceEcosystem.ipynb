{
 "cells": [
  {
   "cell_type": "markdown",
   "id": "2e2187e7-5028-4c99-bf50-f7584c6da198",
   "metadata": {},
   "source": [
    "# Data Science Tools and Ecosystem"
   ]
  },
  {
   "cell_type": "markdown",
   "id": "eb1dc91f-5ad7-445a-9966-6fca49b14433",
   "metadata": {},
   "source": [
    "### In this notebook, Data Science Tools and Ecosystem are summarized."
   ]
  },
  {
   "cell_type": "markdown",
   "id": "2c85b6cc-a4db-486e-9aba-bb44bde3ccbe",
   "metadata": {
    "jp-MarkdownHeadingCollapsed": true,
    "tags": []
   },
   "source": [
    "#### **Objectives**:\n",
    "- Popular Data Scientists languages.\n",
    "- Commonly used libraries used by Data Scientists.\n",
    "- Data Science tools.\n",
    "- Basic Python.\n",
    "- Basic R."
   ]
  },
  {
   "cell_type": "markdown",
   "id": "b1603c9b-759e-41ad-a5b8-7e58ddd51ba0",
   "metadata": {},
   "source": [
    "## Author\n",
    "Pedro de los Santos Simon Figuera"
   ]
  },
  {
   "cell_type": "markdown",
   "id": "329b3019-243c-4cf0-962c-1e7ce502b903",
   "metadata": {},
   "source": [
    "#### Some of the popular languages that Data Scientists use are:"
   ]
  },
  {
   "cell_type": "markdown",
   "id": "cb6035f7-ea73-45b5-b327-d41f52c67e28",
   "metadata": {},
   "source": [
    "1. R\n",
    "2. Python\n",
    "3. SQL\n",
    "4. Java\n",
    "5. Scala\n",
    "6. C++\n",
    "7. JavaScript\n",
    "8. Julia"
   ]
  },
  {
   "cell_type": "markdown",
   "id": "c408dd0b-ac6a-4f4e-ab5e-bc2b78941f38",
   "metadata": {},
   "source": [
    "#### Some of the commonly used libraries used by Data Scientists include:"
   ]
  },
  {
   "cell_type": "markdown",
   "id": "6f1fc266-fec2-4520-850e-6b75ece189cb",
   "metadata": {
    "tags": []
   },
   "source": [
    "##### For Python:\n",
    "1. Pandas.\n",
    "2. Numpy.\n",
    "3. Scipy.\n",
    "4. Matplotlib.\n",
    "5. TensorFlow.\n",
    "6. PyTorch.\n",
    "7. Keras.\n",
    "8. Scikit-learn.\n",
    "##### For R:\n",
    "1. dplyr.\n",
    "2. stringr.\n",
    "3. ggplot.\n",
    "4. caret."
   ]
  },
  {
   "cell_type": "markdown",
   "id": "74444b85-581e-443b-b1fb-cf2fbe652293",
   "metadata": {},
   "source": [
    "|Data Science Tools|\n",
    "|------------------|\n",
    "|R studio|\n",
    "|JupyterLab|\n",
    "|Spyder|"
   ]
  },
  {
   "cell_type": "markdown",
   "id": "cda05433-f98b-44d7-bdc2-57a20a2dfd3e",
   "metadata": {},
   "source": [
    "### Below are a few examples of evaluating arithmetic expressions in Python"
   ]
  },
  {
   "cell_type": "code",
   "execution_count": 9,
   "id": "04d68c55-bd90-4f33-90de-a5beeb0ac2f6",
   "metadata": {},
   "outputs": [
    {
     "data": {
      "text/plain": [
       "17"
      ]
     },
     "execution_count": 9,
     "metadata": {},
     "output_type": "execute_result"
    }
   ],
   "source": [
    "(3*4)+5"
   ]
  },
  {
   "cell_type": "code",
   "execution_count": 11,
   "id": "cebab2e4-b822-4c26-872f-b87a6081d111",
   "metadata": {},
   "outputs": [
    {
     "name": "stdout",
     "output_type": "stream",
     "text": [
      "3.3333333333333335\n"
     ]
    }
   ],
   "source": [
    "# This will convert 200 minutes to hours by diving by 60\n",
    "\n",
    "minutes = 200\n",
    "one_hour = 60\n",
    "\n",
    "result = minutes/one_hour\n",
    "print(result)\n"
   ]
  },
  {
   "cell_type": "code",
   "execution_count": null,
   "id": "d71611fc-7531-4808-9d49-7537e08ea733",
   "metadata": {},
   "outputs": [],
   "source": []
  }
 ],
 "metadata": {
  "kernelspec": {
   "display_name": "Python 3 (ipykernel)",
   "language": "python",
   "name": "python3"
  },
  "language_info": {
   "codemirror_mode": {
    "name": "ipython",
    "version": 3
   },
   "file_extension": ".py",
   "mimetype": "text/x-python",
   "name": "python",
   "nbconvert_exporter": "python",
   "pygments_lexer": "ipython3",
   "version": "3.9.13"
  }
 },
 "nbformat": 4,
 "nbformat_minor": 5
}
